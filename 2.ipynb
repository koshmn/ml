{
 "cells": [
  {
   "cell_type": "code",
   "execution_count": 172,
   "id": "066f7f01",
   "metadata": {},
   "outputs": [],
   "source": [
    "import pandas as pd\n",
    "import numpy as np"
   ]
  },
  {
   "cell_type": "code",
   "execution_count": 173,
   "id": "6e1bdea7",
   "metadata": {},
   "outputs": [],
   "source": [
    "import warnings\n",
    "warnings.filterwarnings('ignore')"
   ]
  },
  {
   "cell_type": "markdown",
   "id": "5bd715f6",
   "metadata": {},
   "source": [
    "### 1. Загрузите данные по вариантам в ноутбук."
   ]
  },
  {
   "cell_type": "code",
   "execution_count": 174,
   "id": "dee57392",
   "metadata": {},
   "outputs": [
    {
     "data": {
      "text/html": [
       "<div>\n",
       "<style scoped>\n",
       "    .dataframe tbody tr th:only-of-type {\n",
       "        vertical-align: middle;\n",
       "    }\n",
       "\n",
       "    .dataframe tbody tr th {\n",
       "        vertical-align: top;\n",
       "    }\n",
       "\n",
       "    .dataframe thead th {\n",
       "        text-align: right;\n",
       "    }\n",
       "</style>\n",
       "<table border=\"1\" class=\"dataframe\">\n",
       "  <thead>\n",
       "    <tr style=\"text-align: right;\">\n",
       "      <th></th>\n",
       "      <th>№</th>\n",
       "      <th>№ школы</th>\n",
       "      <th>Класс</th>\n",
       "      <th>Пол</th>\n",
       "      <th>Номер варианта</th>\n",
       "      <th>Задания с кратким ответом</th>\n",
       "      <th>Задания с развёрнутым ответом</th>\n",
       "      <th>Устная часть</th>\n",
       "      <th>Первичный балл</th>\n",
       "      <th>Балл</th>\n",
       "      <th>Минимальный балл</th>\n",
       "    </tr>\n",
       "  </thead>\n",
       "  <tbody>\n",
       "    <tr>\n",
       "      <th>0</th>\n",
       "      <td>1.0</td>\n",
       "      <td>124.0</td>\n",
       "      <td>11</td>\n",
       "      <td>Ж</td>\n",
       "      <td>341.0</td>\n",
       "      <td>------+-----</td>\n",
       "      <td>0(2)0(2)0(2)0(3)0(3)0(4)0(4)</td>\n",
       "      <td>NaN</td>\n",
       "      <td>1.0</td>\n",
       "      <td>5.0</td>\n",
       "      <td>27.0</td>\n",
       "    </tr>\n",
       "    <tr>\n",
       "      <th>1</th>\n",
       "      <td>2.0</td>\n",
       "      <td>128.0</td>\n",
       "      <td>11</td>\n",
       "      <td>Ж</td>\n",
       "      <td>345.0</td>\n",
       "      <td>-+----------</td>\n",
       "      <td>0(2)0(2)0(2)0(3)0(3)0(4)0(4)</td>\n",
       "      <td>NaN</td>\n",
       "      <td>1.0</td>\n",
       "      <td>5.0</td>\n",
       "      <td>27.0</td>\n",
       "    </tr>\n",
       "    <tr>\n",
       "      <th>2</th>\n",
       "      <td>3.0</td>\n",
       "      <td>132.0</td>\n",
       "      <td>11</td>\n",
       "      <td>Ж</td>\n",
       "      <td>340.0</td>\n",
       "      <td>-+----------</td>\n",
       "      <td>0(2)0(2)0(2)0(3)0(3)0(4)0(4)</td>\n",
       "      <td>NaN</td>\n",
       "      <td>1.0</td>\n",
       "      <td>5.0</td>\n",
       "      <td>27.0</td>\n",
       "    </tr>\n",
       "    <tr>\n",
       "      <th>3</th>\n",
       "      <td>4.0</td>\n",
       "      <td>134.0</td>\n",
       "      <td>11</td>\n",
       "      <td>Ж</td>\n",
       "      <td>339.0</td>\n",
       "      <td>-+----------</td>\n",
       "      <td>0(2)0(2)0(2)0(3)0(3)0(4)0(4)</td>\n",
       "      <td>NaN</td>\n",
       "      <td>1.0</td>\n",
       "      <td>5.0</td>\n",
       "      <td>27.0</td>\n",
       "    </tr>\n",
       "    <tr>\n",
       "      <th>4</th>\n",
       "      <td>5.0</td>\n",
       "      <td>136.0</td>\n",
       "      <td>11</td>\n",
       "      <td>Ж</td>\n",
       "      <td>348.0</td>\n",
       "      <td>--------+---</td>\n",
       "      <td>0(2)0(2)0(2)0(3)0(3)0(4)0(4)</td>\n",
       "      <td>NaN</td>\n",
       "      <td>1.0</td>\n",
       "      <td>5.0</td>\n",
       "      <td>27.0</td>\n",
       "    </tr>\n",
       "    <tr>\n",
       "      <th>...</th>\n",
       "      <td>...</td>\n",
       "      <td>...</td>\n",
       "      <td>...</td>\n",
       "      <td>...</td>\n",
       "      <td>...</td>\n",
       "      <td>...</td>\n",
       "      <td>...</td>\n",
       "      <td>...</td>\n",
       "      <td>...</td>\n",
       "      <td>...</td>\n",
       "      <td>...</td>\n",
       "    </tr>\n",
       "    <tr>\n",
       "      <th>2351</th>\n",
       "      <td>2352.0</td>\n",
       "      <td>136.0</td>\n",
       "      <td>11</td>\n",
       "      <td>М</td>\n",
       "      <td>337.0</td>\n",
       "      <td>++++++++++++</td>\n",
       "      <td>2(2)2(2)2(2)3(3)3(3)0(4)1(4)</td>\n",
       "      <td>NaN</td>\n",
       "      <td>25.0</td>\n",
       "      <td>92.0</td>\n",
       "      <td>27.0</td>\n",
       "    </tr>\n",
       "    <tr>\n",
       "      <th>2352</th>\n",
       "      <td>2353.0</td>\n",
       "      <td>136.0</td>\n",
       "      <td>11</td>\n",
       "      <td>М</td>\n",
       "      <td>341.0</td>\n",
       "      <td>++-+++++++++</td>\n",
       "      <td>2(2)2(2)1(2)2(3)2(3)4(4)1(4)</td>\n",
       "      <td>NaN</td>\n",
       "      <td>25.0</td>\n",
       "      <td>92.0</td>\n",
       "      <td>27.0</td>\n",
       "    </tr>\n",
       "    <tr>\n",
       "      <th>2353</th>\n",
       "      <td>2354.0</td>\n",
       "      <td>136.0</td>\n",
       "      <td>11</td>\n",
       "      <td>М</td>\n",
       "      <td>341.0</td>\n",
       "      <td>++++++++++++</td>\n",
       "      <td>2(2)1(2)2(2)1(3)3(3)4(4)2(4)</td>\n",
       "      <td>NaN</td>\n",
       "      <td>27.0</td>\n",
       "      <td>96.0</td>\n",
       "      <td>27.0</td>\n",
       "    </tr>\n",
       "    <tr>\n",
       "      <th>2354</th>\n",
       "      <td>2355.0</td>\n",
       "      <td>136.0</td>\n",
       "      <td>11</td>\n",
       "      <td>М</td>\n",
       "      <td>343.0</td>\n",
       "      <td>++++++++++++</td>\n",
       "      <td>2(2)2(2)2(2)0(3)3(3)4(4)2(4)</td>\n",
       "      <td>NaN</td>\n",
       "      <td>27.0</td>\n",
       "      <td>96.0</td>\n",
       "      <td>27.0</td>\n",
       "    </tr>\n",
       "    <tr>\n",
       "      <th>2355</th>\n",
       "      <td>2356.0</td>\n",
       "      <td>136.0</td>\n",
       "      <td>11</td>\n",
       "      <td>Ж</td>\n",
       "      <td>337.0</td>\n",
       "      <td>++++++++++++</td>\n",
       "      <td>2(2)2(2)2(2)0(3)3(3)4(4)2(4)</td>\n",
       "      <td>NaN</td>\n",
       "      <td>27.0</td>\n",
       "      <td>96.0</td>\n",
       "      <td>27.0</td>\n",
       "    </tr>\n",
       "  </tbody>\n",
       "</table>\n",
       "<p>2356 rows × 11 columns</p>\n",
       "</div>"
      ],
      "text/plain": [
       "           №  № школы Класс Пол  Номер варианта Задания с кратким ответом  \\\n",
       "0        1.0    124.0    11   Ж           341.0              ------+-----   \n",
       "1        2.0    128.0    11   Ж           345.0              -+----------   \n",
       "2        3.0    132.0    11   Ж           340.0              -+----------   \n",
       "3        4.0    134.0    11   Ж           339.0              -+----------   \n",
       "4        5.0    136.0    11   Ж           348.0              --------+---   \n",
       "...      ...      ...   ...  ..             ...                       ...   \n",
       "2351  2352.0    136.0    11   М           337.0              ++++++++++++   \n",
       "2352  2353.0    136.0    11   М           341.0              ++-+++++++++   \n",
       "2353  2354.0    136.0    11   М           341.0              ++++++++++++   \n",
       "2354  2355.0    136.0    11   М           343.0              ++++++++++++   \n",
       "2355  2356.0    136.0    11   Ж           337.0              ++++++++++++   \n",
       "\n",
       "     Задания с развёрнутым ответом Устная часть  Первичный балл  Балл  \\\n",
       "0     0(2)0(2)0(2)0(3)0(3)0(4)0(4)          NaN             1.0   5.0   \n",
       "1     0(2)0(2)0(2)0(3)0(3)0(4)0(4)          NaN             1.0   5.0   \n",
       "2     0(2)0(2)0(2)0(3)0(3)0(4)0(4)          NaN             1.0   5.0   \n",
       "3     0(2)0(2)0(2)0(3)0(3)0(4)0(4)          NaN             1.0   5.0   \n",
       "4     0(2)0(2)0(2)0(3)0(3)0(4)0(4)          NaN             1.0   5.0   \n",
       "...                            ...          ...             ...   ...   \n",
       "2351  2(2)2(2)2(2)3(3)3(3)0(4)1(4)          NaN            25.0  92.0   \n",
       "2352  2(2)2(2)1(2)2(3)2(3)4(4)1(4)          NaN            25.0  92.0   \n",
       "2353  2(2)1(2)2(2)1(3)3(3)4(4)2(4)          NaN            27.0  96.0   \n",
       "2354  2(2)2(2)2(2)0(3)3(3)4(4)2(4)          NaN            27.0  96.0   \n",
       "2355  2(2)2(2)2(2)0(3)3(3)4(4)2(4)          NaN            27.0  96.0   \n",
       "\n",
       "      Минимальный балл  \n",
       "0                 27.0  \n",
       "1                 27.0  \n",
       "2                 27.0  \n",
       "3                 27.0  \n",
       "4                 27.0  \n",
       "...                ...  \n",
       "2351              27.0  \n",
       "2352              27.0  \n",
       "2353              27.0  \n",
       "2354              27.0  \n",
       "2355              27.0  \n",
       "\n",
       "[2356 rows x 11 columns]"
      ]
     },
     "execution_count": 174,
     "metadata": {},
     "output_type": "execute_result"
    }
   ],
   "source": [
    "df = pd.read_excel('Вариант 2.xlsx', skiprows=2)\n",
    "df.drop(len(df) - 1, inplace=True)\n",
    "df"
   ]
  },
  {
   "cell_type": "markdown",
   "id": "b4a7cd15",
   "metadata": {},
   "source": [
    "### 2. Сделайте описательную статистику полученных данных."
   ]
  },
  {
   "cell_type": "code",
   "execution_count": 175,
   "id": "797677db",
   "metadata": {},
   "outputs": [
    {
     "name": "stdout",
     "output_type": "stream",
     "text": [
      "<class 'pandas.core.frame.DataFrame'>\n",
      "RangeIndex: 2356 entries, 0 to 2355\n",
      "Data columns (total 11 columns):\n",
      " #   Column                         Non-Null Count  Dtype  \n",
      "---  ------                         --------------  -----  \n",
      " 0   №                              2356 non-null   float64\n",
      " 1   № школы                        2356 non-null   float64\n",
      " 2   Класс                          2356 non-null   object \n",
      " 3   Пол                            2356 non-null   object \n",
      " 4   Номер варианта                 2356 non-null   float64\n",
      " 5   Задания с кратким ответом      2356 non-null   object \n",
      " 6   Задания с развёрнутым ответом  2356 non-null   object \n",
      " 7   Устная часть                   0 non-null      object \n",
      " 8   Первичный балл                 2356 non-null   float64\n",
      " 9   Балл                           2356 non-null   float64\n",
      " 10  Минимальный балл               2356 non-null   float64\n",
      "dtypes: float64(6), object(5)\n",
      "memory usage: 202.6+ KB\n"
     ]
    }
   ],
   "source": [
    "df.info()"
   ]
  },
  {
   "cell_type": "markdown",
   "id": "ae7f74a2",
   "metadata": {},
   "source": [
    "### 3. Найдите процент учащихся, выполнивших работу ниже среднего."
   ]
  },
  {
   "cell_type": "code",
   "execution_count": 176,
   "id": "1dbd1a8c",
   "metadata": {},
   "outputs": [
    {
     "name": "stdout",
     "output_type": "stream",
     "text": [
      "48.01%\n"
     ]
    }
   ],
   "source": [
    "print(f\"{len(df[df['Балл'] < df['Балл'].mean()]) / len(df) * 100:.2f}%\")"
   ]
  },
  {
   "cell_type": "markdown",
   "id": "e279b7ab",
   "metadata": {},
   "source": [
    "### 4. Найти процент учащихся не сдавших экзамен."
   ]
  },
  {
   "cell_type": "code",
   "execution_count": 177,
   "id": "116dbbcb",
   "metadata": {},
   "outputs": [
    {
     "name": "stdout",
     "output_type": "stream",
     "text": [
      "9.21%\n"
     ]
    }
   ],
   "source": [
    "print(f\"{len(df[df['Балл'] < df['Минимальный балл']]) / len(df) * 100:.2f}%\")"
   ]
  },
  {
   "cell_type": "markdown",
   "id": "edb309cb",
   "metadata": {},
   "source": [
    "### 5. Постройте круговую диаграмму, показывающую распределение сдавших и не сдавших экзамен."
   ]
  },
  {
   "cell_type": "code",
   "execution_count": 178,
   "id": "7bf29e6f",
   "metadata": {},
   "outputs": [],
   "source": [
    "import matplotlib.pyplot as plt\n",
    "import seaborn as sns"
   ]
  },
  {
   "cell_type": "code",
   "execution_count": 179,
   "id": "612eb4b3",
   "metadata": {},
   "outputs": [
    {
     "data": {
      "image/png": "[encoded data removed]",
      "text/plain": [
       "<Figure size 640x480 with 1 Axes>"
      ]
     },
     "metadata": {},
     "output_type": "display_data"
    }
   ],
   "source": [
    "passed = len(df[df['Балл'] >= df['Минимальный балл']])\n",
    "failed = len(df[df['Балл'] < df['Минимальный балл']])\n",
    "\n",
    "labels = ['Сдавшие', 'Несдавшие']\n",
    "sizes = [passed, failed]\n",
    "colors = ['g', 'r']\n",
    "\n",
    "plt.pie(sizes, labels=labels, colors=colors, autopct='%1.1f%%')\n",
    "plt.title('Распределение сдавших и не сдавших экзамен')\n",
    "plt.show()"
   ]
  },
  {
   "cell_type": "markdown",
   "id": "94004506",
   "metadata": {},
   "source": [
    "### 6. Постройте ядерную оценку плотности распределению баллов за экзамен."
   ]
  },
  {
   "cell_type": "code",
   "execution_count": 180,
   "id": "61933817",
   "metadata": {},
   "outputs": [
    {
     "data": {
      "image/png": "[encoded data removed]",
      "text/plain": [
       "<Figure size 640x480 with 1 Axes>"
      ]
     },
     "metadata": {},
     "output_type": "display_data"
    }
   ],
   "source": [
    "sns.kdeplot(df['Балл'])\n",
    "plt.show()"
   ]
  },
  {
   "cell_type": "markdown",
   "id": "8addc1cd",
   "metadata": {},
   "source": [
    "### 7. Найдите процентное соотношение учащихся, сдавших экзамен на «отлично», «хорошо», «удовлетворительно», «неудовлетворительно»."
   ]
  },
  {
   "cell_type": "code",
   "execution_count": 181,
   "id": "5fabf9f1",
   "metadata": {},
   "outputs": [
    {
     "name": "stdout",
     "output_type": "stream",
     "text": [
      "Неудовлетворительно: 9.21%\n",
      "Удовлетворительно: 38.79%\n",
      "Хорошо: 26.40%\n",
      "Отлично: 25.59%\n"
     ]
    }
   ],
   "source": [
    "print(f\"Неудовлетворительно: {(len(df[df['Балл'] < 27]) / len(df)) * 100:.2f}%\")\n",
    "print(f\"Удовлетворительно: {((len(df[(27 <= df['Балл']) & (df['Балл'] < 50)])) / len(df)) * 100:.2f}%\")\n",
    "print(f\"Хорошо: {((len(df[(50 <= df['Балл']) & (df['Балл'] < 68)])) / len(df)) * 100:.2f}%\")\n",
    "print(f\"Отлично: {(len(df[df['Балл'] >= 68]) / len(df)) * 100:.2f}%\")"
   ]
  },
  {
   "cell_type": "markdown",
   "id": "6a62b2df",
   "metadata": {},
   "source": [
    "### 8. Какое процентное соотношение юношей и девушек писало данный экзамен?"
   ]
  },
  {
   "cell_type": "code",
   "execution_count": 182,
   "id": "583e288e",
   "metadata": {},
   "outputs": [
    {
     "name": "stdout",
     "output_type": "stream",
     "text": [
      "Юноши: 47.16%\n",
      "Девушки: 52.84%\n"
     ]
    }
   ],
   "source": [
    "print(f\"Юноши: {len(df[df['Пол'] == 'М']) / len(df) * 100:.2f}%\")\n",
    "print(f\"Девушки: {len(df[df['Пол'] == 'Ж']) / len(df) * 100:.2f}%\")"
   ]
  },
  {
   "cell_type": "markdown",
   "id": "019518c4",
   "metadata": {},
   "source": [
    "### 9. Сколько школ принимало участие в экзамене?"
   ]
  },
  {
   "cell_type": "code",
   "execution_count": 183,
   "id": "b62ddb74",
   "metadata": {},
   "outputs": [
    {
     "data": {
      "text/plain": [
       "17"
      ]
     },
     "execution_count": 183,
     "metadata": {},
     "output_type": "execute_result"
    }
   ],
   "source": [
    "df['№ школы'].nunique()"
   ]
  },
  {
   "cell_type": "markdown",
   "id": "b53b3894",
   "metadata": {},
   "source": [
    "### 10. Сколько всего заданий с кратким ответом? С развернутым ответом?"
   ]
  },
  {
   "cell_type": "code",
   "execution_count": 184,
   "id": "b0957ef6",
   "metadata": {},
   "outputs": [
    {
     "name": "stdout",
     "output_type": "stream",
     "text": [
      "Заданий с картким ответом: 12\n",
      "Задания с развёрнутым ответом: 7\n"
     ]
    }
   ],
   "source": [
    "print(f\"Заданий с картким ответом: {len(df.iloc[0]['Задания с кратким ответом'])}\")\n",
    "print(f\"Задания с развёрнутым ответом: {df.iloc[0]['Задания с развёрнутым ответом'].count('(')}\")"
   ]
  },
  {
   "cell_type": "markdown",
   "id": "16c0779f",
   "metadata": {},
   "source": [
    "### 11. Пусть задания с кратким ответом будут задания типа В. Соответственно всего по экзамену вопросов класса В: B1, ... Bk\n",
    "### Посчитайте процент выполненных и невыполненных заданий по каждому вопросу класса В."
   ]
  },
  {
   "cell_type": "code",
   "execution_count": 185,
   "id": "cc2ee53f",
   "metadata": {},
   "outputs": [
    {
     "name": "stdout",
     "output_type": "stream",
     "text": [
      "B1 Выполнено: 89.26% Невыполнено: 10.74%\n",
      "B2 Выполнено: 95.33% Невыполнено: 4.67%\n",
      "B3 Выполнено: 92.78% Невыполнено: 7.22%\n",
      "B4 Выполнено: 91.00% Невыполнено: 9.00%\n",
      "B5 Выполнено: 88.50% Невыполнено: 11.50%\n",
      "B6 Выполнено: 73.17% Невыполнено: 26.83%\n",
      "B7 Выполнено: 37.48% Невыполнено: 62.52%\n",
      "B8 Выполнено: 47.84% Невыполнено: 52.16%\n",
      "B9 Выполнено: 91.85% Невыполнено: 8.15%\n",
      "B10 Выполнено: 71.48% Невыполнено: 28.52%\n",
      "B11 Выполнено: 59.25% Невыполнено: 40.75%\n",
      "B12 Выполнено: 46.22% Невыполнено: 53.78%\n"
     ]
    }
   ],
   "source": [
    "count = len(df)\n",
    "for i in range(12):\n",
    "    counter = 0\n",
    "    for j in range(count):\n",
    "        counter += df.iloc[j]['Задания с кратким ответом'][i] == '+'\n",
    "    print(f\"B{i+1} Выполнено: {counter / count * 100:.2f}% Невыполнено: {(count - counter) / count * 100:.2f}%\")"
   ]
  },
  {
   "cell_type": "markdown",
   "id": "ad44f1bb",
   "metadata": {},
   "source": [
    "### 12. Аналогично и с типом С (ответы с развернутым ответом)"
   ]
  },
  {
   "cell_type": "code",
   "execution_count": 186,
   "id": "7c0c4ae2",
   "metadata": {},
   "outputs": [
    {
     "name": "stdout",
     "output_type": "stream",
     "text": [
      "С1 Выполнено: 26.15% Невыполнено: 73.85%\n",
      "С2 Выполнено: 7.47% Невыполнено: 92.53%\n",
      "С3 Выполнено: 12.56% Невыполнено: 87.44%\n",
      "С4 Выполнено: 0.51% Невыполнено: 99.49%\n",
      "С5 Выполнено: 1.10% Невыполнено: 98.90%\n",
      "С6 Выполнено: 0.38% Невыполнено: 99.62%\n",
      "С7 Выполнено: 0.04% Невыполнено: 99.96%\n"
     ]
    }
   ],
   "source": [
    "count = len(df)\n",
    "for i in range(7):\n",
    "    counter = 0\n",
    "    for j in range(count):\n",
    "        counter += df.iloc[j]['Задания с развёрнутым ответом'][i * 4] == df.iloc[j]['Задания с развёрнутым ответом'][i * 4 + 2]\n",
    "    print(f\"С{i+1} Выполнено: {counter / count * 100:.2f}% Невыполнено: {(count - counter) / count * 100:.2f}%\")"
   ]
  },
  {
   "cell_type": "markdown",
   "id": "701901d4",
   "metadata": {},
   "source": [
    "### 13. Сделайте анализ по двум школам:\n",
    "### 1) по всем выполненным заданиям типа В\n",
    "### 2) по заданиям типа С больше 50%\n",
    "### 3) по среднему баллу юношей и девушек"
   ]
  },
  {
   "cell_type": "code",
   "execution_count": 187,
   "id": "4b761ee6",
   "metadata": {},
   "outputs": [
    {
     "data": {
      "text/plain": [
       "№ школы\n",
       "121.0      81\n",
       "122.0      54\n",
       "123.0     111\n",
       "124.0      35\n",
       "125.0      77\n",
       "126.0      71\n",
       "127.0     176\n",
       "128.0     113\n",
       "129.0      33\n",
       "130.0      26\n",
       "131.0      50\n",
       "132.0     104\n",
       "133.0     115\n",
       "134.0      20\n",
       "135.0     182\n",
       "136.0    1020\n",
       "137.0      88\n",
       "dtype: int64"
      ]
     },
     "execution_count": 187,
     "metadata": {},
     "output_type": "execute_result"
    }
   ],
   "source": [
    "school_counts = df.groupby('№ школы').size()\n",
    "school_counts"
   ]
  },
  {
   "cell_type": "code",
   "execution_count": 188,
   "id": "7965bac6",
   "metadata": {},
   "outputs": [
    {
     "data": {
      "text/html": [
       "<div>\n",
       "<style scoped>\n",
       "    .dataframe tbody tr th:only-of-type {\n",
       "        vertical-align: middle;\n",
       "    }\n",
       "\n",
       "    .dataframe tbody tr th {\n",
       "        vertical-align: top;\n",
       "    }\n",
       "\n",
       "    .dataframe thead th {\n",
       "        text-align: right;\n",
       "    }\n",
       "</style>\n",
       "<table border=\"1\" class=\"dataframe\">\n",
       "  <thead>\n",
       "    <tr style=\"text-align: right;\">\n",
       "      <th></th>\n",
       "      <th>№</th>\n",
       "      <th>№ школы</th>\n",
       "      <th>Класс</th>\n",
       "      <th>Пол</th>\n",
       "      <th>Номер варианта</th>\n",
       "      <th>Задания с кратким ответом</th>\n",
       "      <th>Задания с развёрнутым ответом</th>\n",
       "      <th>Устная часть</th>\n",
       "      <th>Первичный балл</th>\n",
       "      <th>Балл</th>\n",
       "      <th>Минимальный балл</th>\n",
       "    </tr>\n",
       "  </thead>\n",
       "  <tbody>\n",
       "    <tr>\n",
       "      <th>15</th>\n",
       "      <td>16.0</td>\n",
       "      <td>135.0</td>\n",
       "      <td>12</td>\n",
       "      <td>М</td>\n",
       "      <td>339.0</td>\n",
       "      <td>++----------</td>\n",
       "      <td>0(2)0(2)0(2)0(3)0(3)0(4)0(4)</td>\n",
       "      <td>NaN</td>\n",
       "      <td>2.0</td>\n",
       "      <td>9.0</td>\n",
       "      <td>27.0</td>\n",
       "    </tr>\n",
       "    <tr>\n",
       "      <th>39</th>\n",
       "      <td>40.0</td>\n",
       "      <td>135.0</td>\n",
       "      <td>12</td>\n",
       "      <td>М</td>\n",
       "      <td>337.0</td>\n",
       "      <td>-+-++-------</td>\n",
       "      <td>0(2)0(2)0(2)0(3)0(3)0(4)0(4)</td>\n",
       "      <td>NaN</td>\n",
       "      <td>3.0</td>\n",
       "      <td>14.0</td>\n",
       "      <td>27.0</td>\n",
       "    </tr>\n",
       "    <tr>\n",
       "      <th>80</th>\n",
       "      <td>81.0</td>\n",
       "      <td>135.0</td>\n",
       "      <td>13</td>\n",
       "      <td>М</td>\n",
       "      <td>103.0</td>\n",
       "      <td>+++-+-------</td>\n",
       "      <td>0(2)0(2)0(2)0(3)0(3)0(4)0(4)</td>\n",
       "      <td>NaN</td>\n",
       "      <td>4.0</td>\n",
       "      <td>18.0</td>\n",
       "      <td>27.0</td>\n",
       "    </tr>\n",
       "    <tr>\n",
       "      <th>81</th>\n",
       "      <td>82.0</td>\n",
       "      <td>135.0</td>\n",
       "      <td>11</td>\n",
       "      <td>Ж</td>\n",
       "      <td>348.0</td>\n",
       "      <td>++-+----+---</td>\n",
       "      <td>0(2)0(2)0(2)0(3)0(3)0(4)0(4)</td>\n",
       "      <td>NaN</td>\n",
       "      <td>4.0</td>\n",
       "      <td>18.0</td>\n",
       "      <td>27.0</td>\n",
       "    </tr>\n",
       "    <tr>\n",
       "      <th>82</th>\n",
       "      <td>83.0</td>\n",
       "      <td>135.0</td>\n",
       "      <td>12</td>\n",
       "      <td>М</td>\n",
       "      <td>339.0</td>\n",
       "      <td>+++------+--</td>\n",
       "      <td>0(2)0(2)0(2)0(3)0(3)0(4)0(4)</td>\n",
       "      <td>NaN</td>\n",
       "      <td>4.0</td>\n",
       "      <td>18.0</td>\n",
       "      <td>27.0</td>\n",
       "    </tr>\n",
       "    <tr>\n",
       "      <th>...</th>\n",
       "      <td>...</td>\n",
       "      <td>...</td>\n",
       "      <td>...</td>\n",
       "      <td>...</td>\n",
       "      <td>...</td>\n",
       "      <td>...</td>\n",
       "      <td>...</td>\n",
       "      <td>...</td>\n",
       "      <td>...</td>\n",
       "      <td>...</td>\n",
       "      <td>...</td>\n",
       "    </tr>\n",
       "    <tr>\n",
       "      <th>2170</th>\n",
       "      <td>2171.0</td>\n",
       "      <td>135.0</td>\n",
       "      <td>11</td>\n",
       "      <td>М</td>\n",
       "      <td>348.0</td>\n",
       "      <td>++++++++++++</td>\n",
       "      <td>2(2)0(2)2(2)0(3)0(3)0(4)0(4)</td>\n",
       "      <td>NaN</td>\n",
       "      <td>16.0</td>\n",
       "      <td>74.0</td>\n",
       "      <td>27.0</td>\n",
       "    </tr>\n",
       "    <tr>\n",
       "      <th>2171</th>\n",
       "      <td>2172.0</td>\n",
       "      <td>135.0</td>\n",
       "      <td>11</td>\n",
       "      <td>Ж</td>\n",
       "      <td>342.0</td>\n",
       "      <td>++++++++++++</td>\n",
       "      <td>2(2)0(2)2(2)0(3)0(3)0(4)0(4)</td>\n",
       "      <td>NaN</td>\n",
       "      <td>16.0</td>\n",
       "      <td>74.0</td>\n",
       "      <td>27.0</td>\n",
       "    </tr>\n",
       "    <tr>\n",
       "      <th>2238</th>\n",
       "      <td>2239.0</td>\n",
       "      <td>135.0</td>\n",
       "      <td>11</td>\n",
       "      <td>М</td>\n",
       "      <td>347.0</td>\n",
       "      <td>++++++++++++</td>\n",
       "      <td>2(2)0(2)2(2)0(3)0(3)0(4)1(4)</td>\n",
       "      <td>NaN</td>\n",
       "      <td>17.0</td>\n",
       "      <td>76.0</td>\n",
       "      <td>27.0</td>\n",
       "    </tr>\n",
       "    <tr>\n",
       "      <th>2284</th>\n",
       "      <td>2285.0</td>\n",
       "      <td>135.0</td>\n",
       "      <td>11</td>\n",
       "      <td>Ж</td>\n",
       "      <td>345.0</td>\n",
       "      <td>+++++++-++++</td>\n",
       "      <td>2(2)2(2)2(2)0(3)1(3)0(4)0(4)</td>\n",
       "      <td>NaN</td>\n",
       "      <td>18.0</td>\n",
       "      <td>78.0</td>\n",
       "      <td>27.0</td>\n",
       "    </tr>\n",
       "    <tr>\n",
       "      <th>2309</th>\n",
       "      <td>2310.0</td>\n",
       "      <td>135.0</td>\n",
       "      <td>11</td>\n",
       "      <td>М</td>\n",
       "      <td>337.0</td>\n",
       "      <td>+++++++-++++</td>\n",
       "      <td>2(2)2(2)2(2)0(3)0(3)0(4)2(4)</td>\n",
       "      <td>NaN</td>\n",
       "      <td>19.0</td>\n",
       "      <td>80.0</td>\n",
       "      <td>27.0</td>\n",
       "    </tr>\n",
       "  </tbody>\n",
       "</table>\n",
       "<p>182 rows × 11 columns</p>\n",
       "</div>"
      ],
      "text/plain": [
       "           №  № школы Класс Пол  Номер варианта Задания с кратким ответом  \\\n",
       "15      16.0    135.0    12   М           339.0              ++----------   \n",
       "39      40.0    135.0    12   М           337.0              -+-++-------   \n",
       "80      81.0    135.0    13   М           103.0              +++-+-------   \n",
       "81      82.0    135.0    11   Ж           348.0              ++-+----+---   \n",
       "82      83.0    135.0    12   М           339.0              +++------+--   \n",
       "...      ...      ...   ...  ..             ...                       ...   \n",
       "2170  2171.0    135.0    11   М           348.0              ++++++++++++   \n",
       "2171  2172.0    135.0    11   Ж           342.0              ++++++++++++   \n",
       "2238  2239.0    135.0    11   М           347.0              ++++++++++++   \n",
       "2284  2285.0    135.0    11   Ж           345.0              +++++++-++++   \n",
       "2309  2310.0    135.0    11   М           337.0              +++++++-++++   \n",
       "\n",
       "     Задания с развёрнутым ответом Устная часть  Первичный балл  Балл  \\\n",
       "15    0(2)0(2)0(2)0(3)0(3)0(4)0(4)          NaN             2.0   9.0   \n",
       "39    0(2)0(2)0(2)0(3)0(3)0(4)0(4)          NaN             3.0  14.0   \n",
       "80    0(2)0(2)0(2)0(3)0(3)0(4)0(4)          NaN             4.0  18.0   \n",
       "81    0(2)0(2)0(2)0(3)0(3)0(4)0(4)          NaN             4.0  18.0   \n",
       "82    0(2)0(2)0(2)0(3)0(3)0(4)0(4)          NaN             4.0  18.0   \n",
       "...                            ...          ...             ...   ...   \n",
       "2170  2(2)0(2)2(2)0(3)0(3)0(4)0(4)          NaN            16.0  74.0   \n",
       "2171  2(2)0(2)2(2)0(3)0(3)0(4)0(4)          NaN            16.0  74.0   \n",
       "2238  2(2)0(2)2(2)0(3)0(3)0(4)1(4)          NaN            17.0  76.0   \n",
       "2284  2(2)2(2)2(2)0(3)1(3)0(4)0(4)          NaN            18.0  78.0   \n",
       "2309  2(2)2(2)2(2)0(3)0(3)0(4)2(4)          NaN            19.0  80.0   \n",
       "\n",
       "      Минимальный балл  \n",
       "15                27.0  \n",
       "39                27.0  \n",
       "80                27.0  \n",
       "81                27.0  \n",
       "82                27.0  \n",
       "...                ...  \n",
       "2170              27.0  \n",
       "2171              27.0  \n",
       "2238              27.0  \n",
       "2284              27.0  \n",
       "2309              27.0  \n",
       "\n",
       "[182 rows x 11 columns]"
      ]
     },
     "execution_count": 188,
     "metadata": {},
     "output_type": "execute_result"
    }
   ],
   "source": [
    "school135 = df[df['№ школы'] == 135]\n",
    "school135"
   ]
  },
  {
   "cell_type": "code",
   "execution_count": 189,
   "id": "2507c45f",
   "metadata": {},
   "outputs": [
    {
     "name": "stdout",
     "output_type": "stream",
     "text": [
      "B1 Выполнено: 88.46% Невыполнено: 11.54%\n",
      "B2 Выполнено: 96.15% Невыполнено: 3.85%\n",
      "B3 Выполнено: 91.76% Невыполнено: 8.24%\n",
      "B4 Выполнено: 85.71% Невыполнено: 14.29%\n",
      "B5 Выполнено: 91.76% Невыполнено: 8.24%\n",
      "B6 Выполнено: 71.98% Невыполнено: 28.02%\n",
      "B7 Выполнено: 39.01% Невыполнено: 60.99%\n",
      "B8 Выполнено: 43.96% Невыполнено: 56.04%\n",
      "B9 Выполнено: 89.56% Невыполнено: 10.44%\n",
      "B10 Выполнено: 72.53% Невыполнено: 27.47%\n",
      "B11 Выполнено: 54.95% Невыполнено: 45.05%\n",
      "B12 Выполнено: 42.86% Невыполнено: 57.14%\n"
     ]
    }
   ],
   "source": [
    "count = len(school135)\n",
    "for i in range(12):\n",
    "    counter = 0\n",
    "    for j in range(count):\n",
    "        counter += school135.iloc[j]['Задания с кратким ответом'][i] == '+'\n",
    "    print(f\"B{i+1} Выполнено: {counter / count * 100:.2f}% Невыполнено: {(count - counter) / count * 100:.2f}%\")"
   ]
  },
  {
   "cell_type": "code",
   "execution_count": 190,
   "id": "4c6263a8",
   "metadata": {},
   "outputs": [
    {
     "name": "stdout",
     "output_type": "stream",
     "text": [
      "С1 Выполнено: 22.53% Невыполнено: 77.47%\n",
      "С2 Выполнено: 3.85% Невыполнено: 96.15%\n",
      "С3 Выполнено: 6.59% Невыполнено: 93.41%\n",
      "С4 Выполнено: 0.55% Невыполнено: 99.45%\n",
      "С5 Выполнено: 0.55% Невыполнено: 99.45%\n",
      "С6 Выполнено: 0.00% Невыполнено: 100.00%\n",
      "С7 Выполнено: 0.00% Невыполнено: 100.00%\n"
     ]
    }
   ],
   "source": [
    "count = len(school135)\n",
    "for i in range(7):\n",
    "    counter = 0\n",
    "    for j in range(count):\n",
    "        counter += int(school135.iloc[j]['Задания с развёрнутым ответом'][i * 4]) > int(school135.iloc[j]['Задания с развёрнутым ответом'][i * 4 + 2]) / 2\n",
    "    print(f\"С{i+1} Выполнено: {counter / count * 100:.2f}% Невыполнено: {(count - counter) / count * 100:.2f}%\")"
   ]
  },
  {
   "cell_type": "code",
   "execution_count": 191,
   "id": "9f1db61c",
   "metadata": {},
   "outputs": [
    {
     "name": "stdout",
     "output_type": "stream",
     "text": [
      "Юноши: 47.04081632653061\n",
      "Девушки: 48.42857142857143\n"
     ]
    }
   ],
   "source": [
    "print(f\"Юноши: {school135[school135['Пол'] == 'М']['Балл'].mean()}\")\n",
    "print(f\"Девушки: {school135[school135['Пол'] == 'Ж']['Балл'].mean()}\")"
   ]
  },
  {
   "cell_type": "code",
   "execution_count": 192,
   "id": "e1665c1a",
   "metadata": {},
   "outputs": [
    {
     "data": {
      "text/html": [
       "<div>\n",
       "<style scoped>\n",
       "    .dataframe tbody tr th:only-of-type {\n",
       "        vertical-align: middle;\n",
       "    }\n",
       "\n",
       "    .dataframe tbody tr th {\n",
       "        vertical-align: top;\n",
       "    }\n",
       "\n",
       "    .dataframe thead th {\n",
       "        text-align: right;\n",
       "    }\n",
       "</style>\n",
       "<table border=\"1\" class=\"dataframe\">\n",
       "  <thead>\n",
       "    <tr style=\"text-align: right;\">\n",
       "      <th></th>\n",
       "      <th>№</th>\n",
       "      <th>№ школы</th>\n",
       "      <th>Класс</th>\n",
       "      <th>Пол</th>\n",
       "      <th>Номер варианта</th>\n",
       "      <th>Задания с кратким ответом</th>\n",
       "      <th>Задания с развёрнутым ответом</th>\n",
       "      <th>Устная часть</th>\n",
       "      <th>Первичный балл</th>\n",
       "      <th>Балл</th>\n",
       "      <th>Минимальный балл</th>\n",
       "    </tr>\n",
       "  </thead>\n",
       "  <tbody>\n",
       "    <tr>\n",
       "      <th>4</th>\n",
       "      <td>5.0</td>\n",
       "      <td>136.0</td>\n",
       "      <td>11</td>\n",
       "      <td>Ж</td>\n",
       "      <td>348.0</td>\n",
       "      <td>--------+---</td>\n",
       "      <td>0(2)0(2)0(2)0(3)0(3)0(4)0(4)</td>\n",
       "      <td>NaN</td>\n",
       "      <td>1.0</td>\n",
       "      <td>5.0</td>\n",
       "      <td>27.0</td>\n",
       "    </tr>\n",
       "    <tr>\n",
       "      <th>5</th>\n",
       "      <td>6.0</td>\n",
       "      <td>136.0</td>\n",
       "      <td>11</td>\n",
       "      <td>М</td>\n",
       "      <td>342.0</td>\n",
       "      <td>+-----------</td>\n",
       "      <td>0(2)0(2)0(2)0(3)0(3)0(4)0(4)</td>\n",
       "      <td>NaN</td>\n",
       "      <td>1.0</td>\n",
       "      <td>5.0</td>\n",
       "      <td>27.0</td>\n",
       "    </tr>\n",
       "    <tr>\n",
       "      <th>6</th>\n",
       "      <td>7.0</td>\n",
       "      <td>136.0</td>\n",
       "      <td>11</td>\n",
       "      <td>М</td>\n",
       "      <td>341.0</td>\n",
       "      <td>+-----------</td>\n",
       "      <td>0(2)0(2)0(2)0(3)0(3)0(4)0(4)</td>\n",
       "      <td>NaN</td>\n",
       "      <td>1.0</td>\n",
       "      <td>5.0</td>\n",
       "      <td>27.0</td>\n",
       "    </tr>\n",
       "    <tr>\n",
       "      <th>16</th>\n",
       "      <td>17.0</td>\n",
       "      <td>136.0</td>\n",
       "      <td>13</td>\n",
       "      <td>М</td>\n",
       "      <td>506.0</td>\n",
       "      <td>-+----+-----</td>\n",
       "      <td>0(2)0(2)0(2)0(3)0(3)0(4)0(4)</td>\n",
       "      <td>NaN</td>\n",
       "      <td>2.0</td>\n",
       "      <td>9.0</td>\n",
       "      <td>27.0</td>\n",
       "    </tr>\n",
       "    <tr>\n",
       "      <th>17</th>\n",
       "      <td>18.0</td>\n",
       "      <td>136.0</td>\n",
       "      <td>11</td>\n",
       "      <td>М</td>\n",
       "      <td>340.0</td>\n",
       "      <td>-+-+--------</td>\n",
       "      <td>0(2)0(2)0(2)0(3)0(3)0(4)0(4)</td>\n",
       "      <td>NaN</td>\n",
       "      <td>2.0</td>\n",
       "      <td>9.0</td>\n",
       "      <td>27.0</td>\n",
       "    </tr>\n",
       "    <tr>\n",
       "      <th>...</th>\n",
       "      <td>...</td>\n",
       "      <td>...</td>\n",
       "      <td>...</td>\n",
       "      <td>...</td>\n",
       "      <td>...</td>\n",
       "      <td>...</td>\n",
       "      <td>...</td>\n",
       "      <td>...</td>\n",
       "      <td>...</td>\n",
       "      <td>...</td>\n",
       "      <td>...</td>\n",
       "    </tr>\n",
       "    <tr>\n",
       "      <th>2351</th>\n",
       "      <td>2352.0</td>\n",
       "      <td>136.0</td>\n",
       "      <td>11</td>\n",
       "      <td>М</td>\n",
       "      <td>337.0</td>\n",
       "      <td>++++++++++++</td>\n",
       "      <td>2(2)2(2)2(2)3(3)3(3)0(4)1(4)</td>\n",
       "      <td>NaN</td>\n",
       "      <td>25.0</td>\n",
       "      <td>92.0</td>\n",
       "      <td>27.0</td>\n",
       "    </tr>\n",
       "    <tr>\n",
       "      <th>2352</th>\n",
       "      <td>2353.0</td>\n",
       "      <td>136.0</td>\n",
       "      <td>11</td>\n",
       "      <td>М</td>\n",
       "      <td>341.0</td>\n",
       "      <td>++-+++++++++</td>\n",
       "      <td>2(2)2(2)1(2)2(3)2(3)4(4)1(4)</td>\n",
       "      <td>NaN</td>\n",
       "      <td>25.0</td>\n",
       "      <td>92.0</td>\n",
       "      <td>27.0</td>\n",
       "    </tr>\n",
       "    <tr>\n",
       "      <th>2353</th>\n",
       "      <td>2354.0</td>\n",
       "      <td>136.0</td>\n",
       "      <td>11</td>\n",
       "      <td>М</td>\n",
       "      <td>341.0</td>\n",
       "      <td>++++++++++++</td>\n",
       "      <td>2(2)1(2)2(2)1(3)3(3)4(4)2(4)</td>\n",
       "      <td>NaN</td>\n",
       "      <td>27.0</td>\n",
       "      <td>96.0</td>\n",
       "      <td>27.0</td>\n",
       "    </tr>\n",
       "    <tr>\n",
       "      <th>2354</th>\n",
       "      <td>2355.0</td>\n",
       "      <td>136.0</td>\n",
       "      <td>11</td>\n",
       "      <td>М</td>\n",
       "      <td>343.0</td>\n",
       "      <td>++++++++++++</td>\n",
       "      <td>2(2)2(2)2(2)0(3)3(3)4(4)2(4)</td>\n",
       "      <td>NaN</td>\n",
       "      <td>27.0</td>\n",
       "      <td>96.0</td>\n",
       "      <td>27.0</td>\n",
       "    </tr>\n",
       "    <tr>\n",
       "      <th>2355</th>\n",
       "      <td>2356.0</td>\n",
       "      <td>136.0</td>\n",
       "      <td>11</td>\n",
       "      <td>Ж</td>\n",
       "      <td>337.0</td>\n",
       "      <td>++++++++++++</td>\n",
       "      <td>2(2)2(2)2(2)0(3)3(3)4(4)2(4)</td>\n",
       "      <td>NaN</td>\n",
       "      <td>27.0</td>\n",
       "      <td>96.0</td>\n",
       "      <td>27.0</td>\n",
       "    </tr>\n",
       "  </tbody>\n",
       "</table>\n",
       "<p>1020 rows × 11 columns</p>\n",
       "</div>"
      ],
      "text/plain": [
       "           №  № школы Класс Пол  Номер варианта Задания с кратким ответом  \\\n",
       "4        5.0    136.0    11   Ж           348.0              --------+---   \n",
       "5        6.0    136.0    11   М           342.0              +-----------   \n",
       "6        7.0    136.0    11   М           341.0              +-----------   \n",
       "16      17.0    136.0    13   М           506.0              -+----+-----   \n",
       "17      18.0    136.0    11   М           340.0              -+-+--------   \n",
       "...      ...      ...   ...  ..             ...                       ...   \n",
       "2351  2352.0    136.0    11   М           337.0              ++++++++++++   \n",
       "2352  2353.0    136.0    11   М           341.0              ++-+++++++++   \n",
       "2353  2354.0    136.0    11   М           341.0              ++++++++++++   \n",
       "2354  2355.0    136.0    11   М           343.0              ++++++++++++   \n",
       "2355  2356.0    136.0    11   Ж           337.0              ++++++++++++   \n",
       "\n",
       "     Задания с развёрнутым ответом Устная часть  Первичный балл  Балл  \\\n",
       "4     0(2)0(2)0(2)0(3)0(3)0(4)0(4)          NaN             1.0   5.0   \n",
       "5     0(2)0(2)0(2)0(3)0(3)0(4)0(4)          NaN             1.0   5.0   \n",
       "6     0(2)0(2)0(2)0(3)0(3)0(4)0(4)          NaN             1.0   5.0   \n",
       "16    0(2)0(2)0(2)0(3)0(3)0(4)0(4)          NaN             2.0   9.0   \n",
       "17    0(2)0(2)0(2)0(3)0(3)0(4)0(4)          NaN             2.0   9.0   \n",
       "...                            ...          ...             ...   ...   \n",
       "2351  2(2)2(2)2(2)3(3)3(3)0(4)1(4)          NaN            25.0  92.0   \n",
       "2352  2(2)2(2)1(2)2(3)2(3)4(4)1(4)          NaN            25.0  92.0   \n",
       "2353  2(2)1(2)2(2)1(3)3(3)4(4)2(4)          NaN            27.0  96.0   \n",
       "2354  2(2)2(2)2(2)0(3)3(3)4(4)2(4)          NaN            27.0  96.0   \n",
       "2355  2(2)2(2)2(2)0(3)3(3)4(4)2(4)          NaN            27.0  96.0   \n",
       "\n",
       "      Минимальный балл  \n",
       "4                 27.0  \n",
       "5                 27.0  \n",
       "6                 27.0  \n",
       "16                27.0  \n",
       "17                27.0  \n",
       "...                ...  \n",
       "2351              27.0  \n",
       "2352              27.0  \n",
       "2353              27.0  \n",
       "2354              27.0  \n",
       "2355              27.0  \n",
       "\n",
       "[1020 rows x 11 columns]"
      ]
     },
     "execution_count": 192,
     "metadata": {},
     "output_type": "execute_result"
    }
   ],
   "source": [
    "school136 = df[df['№ школы'] == 136]\n",
    "school136"
   ]
  },
  {
   "cell_type": "code",
   "execution_count": 193,
   "id": "6a1fdae8",
   "metadata": {},
   "outputs": [
    {
     "name": "stdout",
     "output_type": "stream",
     "text": [
      "B1 Выполнено: 90.29% Невыполнено: 9.71%\n",
      "B2 Выполнено: 96.47% Невыполнено: 3.53%\n",
      "B3 Выполнено: 94.71% Невыполнено: 5.29%\n",
      "B4 Выполнено: 91.08% Невыполнено: 8.92%\n",
      "B5 Выполнено: 90.49% Невыполнено: 9.51%\n",
      "B6 Выполнено: 74.61% Невыполнено: 25.39%\n",
      "B7 Выполнено: 42.16% Невыполнено: 57.84%\n",
      "B8 Выполнено: 47.94% Невыполнено: 52.06%\n",
      "B9 Выполнено: 91.08% Невыполнено: 8.92%\n",
      "B10 Выполнено: 73.04% Невыполнено: 26.96%\n",
      "B11 Выполнено: 61.18% Невыполнено: 38.82%\n",
      "B12 Выполнено: 48.53% Невыполнено: 51.47%\n"
     ]
    }
   ],
   "source": [
    "count = len(school136)\n",
    "for i in range(12):\n",
    "    counter = 0\n",
    "    for j in range(count):\n",
    "        counter += school136.iloc[j]['Задания с кратким ответом'][i] == '+'\n",
    "    print(f\"B{i+1} Выполнено: {counter / count * 100:.2f}% Невыполнено: {(count - counter) / count * 100:.2f}%\")"
   ]
  },
  {
   "cell_type": "code",
   "execution_count": 194,
   "id": "c108832e",
   "metadata": {},
   "outputs": [
    {
     "name": "stdout",
     "output_type": "stream",
     "text": [
      "С1 Выполнено: 31.86% Невыполнено: 68.14%\n",
      "С2 Выполнено: 10.39% Невыполнено: 89.61%\n",
      "С3 Выполнено: 16.96% Невыполнено: 83.04%\n",
      "С4 Выполнено: 0.98% Невыполнено: 99.02%\n",
      "С5 Выполнено: 2.84% Невыполнено: 97.16%\n",
      "С6 Выполнено: 0.98% Невыполнено: 99.02%\n",
      "С7 Выполнено: 0.10% Невыполнено: 99.90%\n"
     ]
    }
   ],
   "source": [
    "count = len(school136)\n",
    "for i in range(7):\n",
    "    counter = 0\n",
    "    for j in range(count):\n",
    "        counter += int(school136.iloc[j]['Задания с развёрнутым ответом'][i * 4]) > int(school136.iloc[j]['Задания с развёрнутым ответом'][i * 4 + 2]) / 2\n",
    "    print(f\"С{i+1} Выполнено: {counter / count * 100:.2f}% Невыполнено: {(count - counter) / count * 100:.2f}%\")"
   ]
  },
  {
   "cell_type": "code",
   "execution_count": 195,
   "id": "a1bf5fbc",
   "metadata": {},
   "outputs": [
    {
     "name": "stdout",
     "output_type": "stream",
     "text": [
      "Юноши: 52.39959016393443\n",
      "Девушки: 50.97744360902256\n"
     ]
    }
   ],
   "source": [
    "print(f\"Юноши: {school136[school136['Пол'] == 'М']['Балл'].mean()}\")\n",
    "print(f\"Девушки: {school136[school136['Пол'] == 'Ж']['Балл'].mean()}\")"
   ]
  },
  {
   "cell_type": "markdown",
   "id": "61e786ac",
   "metadata": {},
   "source": [
    "### 14. Для каждого задания добавьте соответствующий раздел в ноутбук и текстовые пояснения."
   ]
  },
  {
   "cell_type": "code",
   "execution_count": null,
   "id": "47e3024e",
   "metadata": {},
   "outputs": [],
   "source": []
  }
 ],
 "metadata": {
  "kernelspec": {
   "display_name": "Python 3 (ipykernel)",
   "language": "python",
   "name": "python3"
  },
  "language_info": {
   "codemirror_mode": {
    "name": "ipython",
    "version": 3
   },
   "file_extension": ".py",
   "mimetype": "text/x-python",
   "name": "python",
   "nbconvert_exporter": "python",
   "pygments_lexer": "ipython3",
   "version": "3.10.9"
  }
 },
 "nbformat": 4,
 "nbformat_minor": 5
}
